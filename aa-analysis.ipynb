{
 "cells": [
  {
   "cell_type": "code",
   "execution_count": 59,
   "metadata": {},
   "outputs": [],
   "source": [
    "# Analyzing frequency of certain aa for all telomeres to determine expected/common/uncommon\n",
    "import pandas as pd"
   ]
  },
  {
   "cell_type": "code",
   "execution_count": 60,
   "metadata": {},
   "outputs": [],
   "source": [
    "# reading in\n",
    "telo5L = pd.read_excel('telomere-db.xlsx', sheet_name='5L').dropna()\n",
    "telo12R = pd.read_excel('telomere-db.xlsx', sheet_name='12R').dropna()\n",
    "telo17R = pd.read_excel('telomere-db.xlsx', sheet_name='17R').dropna()\n",
    "telo19L = pd.read_excel('telomere-db.xlsx', sheet_name='19L').dropna()"
   ]
  },
  {
   "cell_type": "code",
   "execution_count": 61,
   "metadata": {},
   "outputs": [
    {
     "data": {
      "text/html": [
       "<div>\n",
       "<style scoped>\n",
       "    .dataframe tbody tr th:only-of-type {\n",
       "        vertical-align: middle;\n",
       "    }\n",
       "\n",
       "    .dataframe tbody tr th {\n",
       "        vertical-align: top;\n",
       "    }\n",
       "\n",
       "    .dataframe thead th {\n",
       "        text-align: right;\n",
       "    }\n",
       "</style>\n",
       "<table border=\"1\" class=\"dataframe\">\n",
       "  <thead>\n",
       "    <tr style=\"text-align: right;\">\n",
       "      <th></th>\n",
       "      <th>Name</th>\n",
       "      <th>Mat/Pat</th>\n",
       "      <th>Population</th>\n",
       "      <th>Sex</th>\n",
       "      <th>Revcom?</th>\n",
       "      <th>Telomere</th>\n",
       "      <th>Frame1</th>\n",
       "      <th>Frame2</th>\n",
       "      <th>Frame3</th>\n",
       "    </tr>\n",
       "  </thead>\n",
       "  <tbody>\n",
       "    <tr>\n",
       "      <th>23</th>\n",
       "      <td>HG00621.pri.mat.f1_v2</td>\n",
       "      <td>mat</td>\n",
       "      <td>Han Chinese South</td>\n",
       "      <td>male</td>\n",
       "      <td>no</td>\n",
       "      <td>17R</td>\n",
       "      <td>RVPVRVRVRG*GLGVRVKVNGQRQRSRSGSGSGVRVRVRGYGQRVG...</td>\n",
       "      <td>GFRFGFGFGVRG*GSGSRSTVSVSGQGQGQGQGSGLGSGVTVRG*G...</td>\n",
       "      <td>GSGSGSGSGLGVRGQGQGQRSASAVKVRVRVRGQG*GQGLRSEGRV...</td>\n",
       "    </tr>\n",
       "  </tbody>\n",
       "</table>\n",
       "</div>"
      ],
      "text/plain": [
       "                     Name Mat/Pat         Population   Sex Revcom? Telomere  \\\n",
       "23  HG00621.pri.mat.f1_v2     mat  Han Chinese South  male      no      17R   \n",
       "\n",
       "                                               Frame1  \\\n",
       "23  RVPVRVRVRG*GLGVRVKVNGQRQRSRSGSGSGVRVRVRGYGQRVG...   \n",
       "\n",
       "                                               Frame2  \\\n",
       "23  GFRFGFGFGVRG*GSGSRSTVSVSGQGQGQGQGSGLGSGVTVRG*G...   \n",
       "\n",
       "                                               Frame3  \n",
       "23  GSGSGSGSGLGVRGQGQGQRSASAVKVRVRVRGQG*GQGLRSEGRV...  "
      ]
     },
     "execution_count": 61,
     "metadata": {},
     "output_type": "execute_result"
    }
   ],
   "source": [
    "telo17R[telo17R['Name']=='HG00621.pri.mat.f1_v2']"
   ]
  },
  {
   "cell_type": "code",
   "execution_count": 62,
   "metadata": {},
   "outputs": [],
   "source": [
    "def combine_columns_str(df, cols):\n",
    "    return df[cols].apply(lambda row: ''.join(row.values.astype(str)), axis=1).str.cat()\n",
    "\n",
    "comb_col = ['Frame1','Frame2','Frame3']\n",
    "df5L = combine_columns_str(telo5L,comb_col)\n",
    "df12R = combine_columns_str(telo12R,comb_col)\n",
    "df17R = combine_columns_str(telo17R,comb_col)\n",
    "df19L = combine_columns_str(telo19L,comb_col)"
   ]
  },
  {
   "cell_type": "code",
   "execution_count": 63,
   "metadata": {},
   "outputs": [
    {
     "name": "stdout",
     "output_type": "stream",
     "text": [
      "205583\n"
     ]
    }
   ],
   "source": [
    "combined = df5L + df12R + df17R + df19L\n",
    "print(len(combined))"
   ]
  },
  {
   "cell_type": "code",
   "execution_count": 64,
   "metadata": {},
   "outputs": [
    {
     "name": "stdout",
     "output_type": "stream",
     "text": [
      "A: 780\n",
      "B: 0\n",
      "C: 273\n",
      "D: 20\n",
      "E: 3634\n",
      "F: 1650\n",
      "G: 70802\n",
      "H: 13\n",
      "I: 31\n",
      "K: 526\n",
      "L: 26511\n",
      "M: 7\n",
      "N: 1\n",
      "P: 152\n",
      "Q: 966\n",
      "R: 32504\n",
      "S: 2298\n",
      "T: 60\n",
      "V: 34390\n",
      "W: 2655\n",
      "Y: 64\n",
      "Z: 0\n"
     ]
    }
   ],
   "source": [
    "# amino acids\n",
    "aa = ['A','B','C','D','E','F','G','H','I','K','L','M','N','P','Q','R','S','T','V','W','Y','Z']\n",
    "\n",
    "#all frames & telos\n",
    "def aa_count(dataframe):\n",
    "    for letter in aa:\n",
    "        print(f'{letter}: {dataframe.count(letter)}')\n",
    "\n",
    "aa_count(combined)"
   ]
  },
  {
   "cell_type": "code",
   "execution_count": 65,
   "metadata": {},
   "outputs": [
    {
     "name": "stdout",
     "output_type": "stream",
     "text": [
      "19L\n",
      "A: 304\n",
      "B: 0\n",
      "C: 53\n",
      "D: 8\n",
      "E: 502\n",
      "F: 581\n",
      "G: 17708\n",
      "H: 5\n",
      "I: 8\n",
      "K: 164\n",
      "L: 7017\n",
      "M: 2\n",
      "N: 0\n",
      "P: 10\n",
      "Q: 51\n",
      "R: 7500\n",
      "S: 469\n",
      "T: 13\n",
      "V: 8090\n",
      "W: 861\n",
      "Y: 11\n",
      "Z: 0\n"
     ]
    }
   ],
   "source": [
    "# indiv telo print\n",
    "#print('5L')\n",
    "#aa_count(df5L)\n",
    "#print('12R')\n",
    "#aa_count(df12R)\n",
    "#print('17R')\n",
    "#aa_count(df17R)\n",
    "#print('19L')\n",
    "#aa_count(df19L)"
   ]
  },
  {
   "cell_type": "code",
   "execution_count": 66,
   "metadata": {},
   "outputs": [
    {
     "name": "stdout",
     "output_type": "stream",
     "text": [
      "A: 322\n",
      "B: 0\n",
      "C: 83\n",
      "D: 9\n",
      "E: 1358\n",
      "F: 515\n",
      "G: 23782\n",
      "H: 1\n",
      "I: 7\n",
      "K: 210\n",
      "L: 8509\n",
      "M: 1\n",
      "N: 1\n",
      "P: 53\n",
      "Q: 332\n",
      "R: 11102\n",
      "S: 618\n",
      "T: 33\n",
      "V: 11863\n",
      "W: 917\n",
      "Y: 17\n",
      "Z: 0\n"
     ]
    }
   ],
   "source": [
    "comb_col = ['Frame1']\n",
    "df5L = combine_columns_str(telo5L,comb_col)\n",
    "df12R = combine_columns_str(telo12R,comb_col)\n",
    "df17R = combine_columns_str(telo17R,comb_col)\n",
    "df19L = combine_columns_str(telo19L,comb_col)\n",
    "\n",
    "frame1_comb = df5L + df12R + df17R + df19L\n",
    "\n",
    "#for letter in aa:\n",
    "#    print(f'{letter}: {frame1_comb.count(letter)}')"
   ]
  },
  {
   "cell_type": "code",
   "execution_count": 67,
   "metadata": {},
   "outputs": [
    {
     "name": "stdout",
     "output_type": "stream",
     "text": [
      "                        Name Mat/Pat            Population     Sex Revcom?  \\\n",
      "0    HG.002.pat.cur.20211005     pat             Caucasian    male     yes   \n",
      "1    HG.002.mat.cur.20211005     mat             Caucasian    male     yes   \n",
      "2      NA19240.pri.mat.f1_v2     mat               Yoruban  female     yes   \n",
      "3      HG02622.pri.mat.f1_v2     mat               Gambian  female      no   \n",
      "4      NA18906.alt.pat.f1_v2     pat               Yoruban  female      no   \n",
      "..                       ...     ...                   ...     ...     ...   \n",
      "397    HG00673.pri.mat.f1_v2     mat     Han Chinese South    male     yes   \n",
      "398    HG03453.alt.pat.f1_v2     pat  Mende (Sierra Leone)  female     yes   \n",
      "399    HG02080.pri.mat.f1_v2     mat            Vietnamese  female      no   \n",
      "400    NA20129.pri.mat.f1_v2     mat      African American  female     yes   \n",
      "401    HG03492.pri.mat.f1_v2     mat    Punjabi (Pakistan)    male      no   \n",
      "\n",
      "    Telomere   Frame                                           Sequence  \n",
      "0         5L  Frame1  RV*G*G*GLGVRG*GLGLGVRG*G*G*GRVRVGVGVGVGVRVRVRV...  \n",
      "1         5L  Frame1  RV*G*G*GLGVRG*GLGLGVRG*G*G*GRVRVGVGVGVGVRVRVRV...  \n",
      "2         5L  Frame1  RVRVRVGVGVGVGVGVRVRVRVRVRG*G*G*GRVRVRG*GLGVRG*...  \n",
      "3         5L  Frame1  RVRVRVRVRVRG*GLGLGLGLGLG*G*G*G*G*GLGLGLGLGLRVR...  \n",
      "4         5L  Frame1  RVRVRVRVRVRVRVRVRVRVRVRARARARARARVRVRG*G*G*G*G...  \n",
      "..       ...     ...                                                ...  \n",
      "397      19L  Frame3  G*R*R*R*R*G*G*G*G*G*GRVRVRVRVRVRVRVLGLGLGLGLGL...  \n",
      "398      19L  Frame3  G*R*R*R*R*G*G*G*G*G*GLGLGLGLGLGLGVRVRVRVRVRG*G...  \n",
      "399      19L  Frame3  G*GCGWGWGWG*G*G*G*G*G*GLGLGLGLGVRVRG*GLGLGLGLG...  \n",
      "400      19L  Frame3  G*R*R*R*R*G*G*G*G*GRVRVRVRVRVRVRVLGLGLGLGLRVKG...  \n",
      "401      19L  Frame3  G*GCRWGWGWG*G*G*GSGSGSGSGSG*G*G*G*G*G*GLG*G*G*...  \n",
      "\n",
      "[402 rows x 8 columns]\n"
     ]
    }
   ],
   "source": [
    "# pd.concat \"stacks\" the sheets onto each other\n",
    "# melt turns the 3 separate columns into one column with a variable\n",
    "# 'id_vars' being the variables we want unchanged\n",
    "bigdf=pd.concat([telo5L, telo12R, telo17R, telo19L]).melt(id_vars=['Name','Mat/Pat','Population','Sex','Revcom?','Telomere'], var_name='Frame',value_name='Sequence')\n",
    "#print(bigdf)"
   ]
  },
  {
   "cell_type": "code",
   "execution_count": 79,
   "metadata": {},
   "outputs": [
    {
     "name": "stdout",
     "output_type": "stream",
     "text": [
      "                         Name          Population Revcom? Telomere   Frame  \\\n",
      "0     HG.002.pat.cur.20211005           Caucasian     yes       5L  Frame1   \n",
      "1     HG.002.pat.cur.20211005           Caucasian     yes       5L  Frame1   \n",
      "2     HG.002.pat.cur.20211005           Caucasian     yes       5L  Frame1   \n",
      "3     HG.002.pat.cur.20211005           Caucasian     yes       5L  Frame1   \n",
      "4     HG.002.mat.cur.20211005           Caucasian     yes       5L  Frame1   \n",
      "...                       ...                 ...     ...      ...     ...   \n",
      "1436    HG03492.pri.mat.f1_v2  Punjabi (Pakistan)      no      19L  Frame3   \n",
      "1437    HG03492.pri.mat.f1_v2  Punjabi (Pakistan)      no      19L  Frame3   \n",
      "1438    HG03492.pri.mat.f1_v2  Punjabi (Pakistan)      no      19L  Frame3   \n",
      "1439    HG03492.pri.mat.f1_v2  Punjabi (Pakistan)      no      19L  Frame3   \n",
      "1440    HG03492.pri.mat.f1_v2  Punjabi (Pakistan)      no      19L  Frame3   \n",
      "\n",
      "                                                Snippet  \n",
      "0     GLGLGLGLGLGLGDRVGVGVGVRVRVRVRVRVRVRVRVRVRVRVRV...  \n",
      "1     GLGLGLGLGLGLGLGVRVRVRVRARARVRARARARARVRVRVRVRV...  \n",
      "2     GLGLGLGLGLGDRVGVGVGVRVRVRVRVRVRVRVRVRVRVGVGVGV...  \n",
      "3     GLGLGLGLGLGLGLGLGLGLGLGLGLGLGLGLGLGLGLGLGLGLGL...  \n",
      "4     GLGLGLGLGLGLGLGLGLGLGLGVGVGLGLGLGSGSGSGSGSGVRV...  \n",
      "...                                                 ...  \n",
      "1436                GLGLGVRIRVRVPVRVRVRVRVRVRVRVRLGFGLG  \n",
      "1437     GEGEGEGSGEGSGEGSGEGSGEGSGRVRVGLGLGLGLGLGLGLGLG  \n",
      "1438                   GLGSGSGSGSGLRVRVRVRVRVRVRVRVRVRG  \n",
      "1439   GLGLGLGLGLGLGVRVRVRVRVRVRGGVRVRVRVRVRVRVRVRVRVRG  \n",
      "1440    GLGVRVRVRVRVRVRVRVRVRVRVRVRVRVGVGVGVGVGVGVGLGLG  \n",
      "\n",
      "[1441 rows x 6 columns]\n"
     ]
    }
   ],
   "source": [
    "# iterate by row\n",
    "newdf = pd.DataFrame()\n",
    "\n",
    "for i, row in bigdf.iterrows():\n",
    "    # call sequence\n",
    "    sequence = row['Sequence']\n",
    "    # separate by *\n",
    "    seqs = sequence.split(\"*\")\n",
    "    # check lengths\n",
    "    for snippet in seqs:\n",
    "        # if length > 50, print row & segment\n",
    "        if len(snippet)>=30:\n",
    "            # add snippet to sequence series\n",
    "            row_copy = row.copy()\n",
    "            row_copy['Snippet']=snippet\n",
    "            # add row to new df\n",
    "            newdf = pd.concat([newdf, row_copy[['Name','Population','Revcom?','Telomere','Frame','Snippet']].to_frame().T], ignore_index=True)\n",
    "            #pd.concat([saveddf,row],axis=0)\n",
    "            #print(row[['Name','Revcom?','Telomere','Snippet']])\n",
    "            #print()\n",
    "        else:\n",
    "            continue\n",
    "\n",
    "#print(newdf)"
   ]
  },
  {
   "cell_type": "code",
   "execution_count": 80,
   "metadata": {},
   "outputs": [],
   "source": [
    "# Saves sequences to a csv\n",
    "#newdf.to_csv('long_sequences.csv', index=False)"
   ]
  },
  {
   "cell_type": "code",
   "execution_count": 1,
   "metadata": {},
   "outputs": [],
   "source": [
    "# Collect all snippets and count occurences of AA\n",
    "\n",
    "# Create a set that holds AAs that show up <100 times\n",
    "# Iterate thru snippet dataframe\n",
    "# If snippet contains anything in AA, add snippet/row to new df"
   ]
  },
  {
   "cell_type": "code",
   "execution_count": null,
   "metadata": {},
   "outputs": [],
   "source": []
  }
 ],
 "metadata": {
  "kernelspec": {
   "display_name": "base",
   "language": "python",
   "name": "python3"
  },
  "language_info": {
   "codemirror_mode": {
    "name": "ipython",
    "version": 3
   },
   "file_extension": ".py",
   "mimetype": "text/x-python",
   "name": "python",
   "nbconvert_exporter": "python",
   "pygments_lexer": "ipython3",
   "version": "3.11.9"
  },
  "orig_nbformat": 4
 },
 "nbformat": 4,
 "nbformat_minor": 2
}
